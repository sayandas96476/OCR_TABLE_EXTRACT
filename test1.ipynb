{
 "cells": [
  {
   "cell_type": "code",
   "execution_count": null,
   "id": "4f9a8ddb",
   "metadata": {},
   "outputs": [
    {
     "name": "stderr",
     "output_type": "stream",
     "text": [
      "c:\\Users\\sayan\\AppData\\Local\\Programs\\Python\\Python311\\Lib\\site-packages\\tqdm\\auto.py:21: TqdmWarning: IProgress not found. Please update jupyter and ipywidgets. See https://ipywidgets.readthedocs.io/en/stable/user_install.html\n",
      "  from .autonotebook import tqdm as notebook_tqdm\n"
     ]
    }
   ],
   "source": [
    "import os\n",
    "import re\n",
    "import base64\n",
    "import mimetypes\n",
    "import configparser\n",
    "from huggingface_hub import InferenceClient\n",
    "# from langchain_groq import ChatGroq\n",
    "# from langchain.prompts import PromptTemplate\n",
    "# from langchain.chains import LLMChain\n",
    "import base64\n",
    "\n",
    "# # API Keys\n",
    "# groq_api_key = config[\"groq\"][\"api_key\"]\n",
    "# groq_model = config[\"groq\"][\"model_name\"]\n",
    "hf_token = \"\"\n"
   ]
  },
  {
   "cell_type": "code",
   "execution_count": 1,
   "id": "c9f821fd",
   "metadata": {},
   "outputs": [],
   "source": [
    "ocr_instruction_text = \"\"\"\n",
    "\n",
    "\n",
    "You are an OCR expert. Analyze the provided image and extract all invoice-related table data (e.g., item details, descriptions, quantities, prices, totals).  \n",
    "The table format may vary and may have merged cells or irregular layouts.\n",
    "\n",
    "Return only valid JSON in this structure:\n",
    "{\n",
    "  \"invoice_tables\": [\n",
    "    {\n",
    "      \"headers\": [string, ...],\n",
    "      \"rows\": [\n",
    "        [string, ...]\n",
    "      ]\n",
    "    }\n",
    "  ]\n",
    "}\n",
    "\n",
    "Rules:\n",
    "- Preserve text exactly as seen, fixing obvious OCR errors when confident.\n",
    "- Do not add extra commentary or formatting.\n",
    "- If no table is found, return: {\"invoice_tables\": []}\n",
    "\n",
    "\"\"\"\n"
   ]
  },
  {
   "cell_type": "code",
   "execution_count": 3,
   "id": "1f050d75",
   "metadata": {},
   "outputs": [],
   "source": [
    "import os\n",
    "import re\n",
    "import base64\n",
    "import mimetypes\n",
    "def image_to_base64(image_path):\n",
    "    with open(image_path, \"rb\") as image_file:\n",
    "        image_data = image_file.read()\n",
    "        base64_string = base64.b64encode(image_data).decode('utf-8')\n",
    "        mime_type, _ = mimetypes.guess_type(image_path)\n",
    "        mime_type = mime_type or \"image/jpeg\"\n",
    "        return f\"data:{mime_type};base64,{base64_string}\"\n"
   ]
  },
  {
   "cell_type": "code",
   "execution_count": 4,
   "id": "7741682a",
   "metadata": {},
   "outputs": [],
   "source": [
    "def ocr(local_image_path):\n",
    "    base64_image = image_to_base64(local_image_path)\n",
    "    client = InferenceClient(api_key=hf_token)\n",
    "\n",
    "    completion = client.chat.completions.create(\n",
    "        model=\"Qwen/Qwen2.5-VL-7B-Instruct\",\n",
    "        messages=[\n",
    "            {\n",
    "                \"role\": \"user\",\n",
    "                \"content\": [\n",
    "                    {\n",
    "                        \"type\": \"text\",\n",
    "                        \"text\": ocr_instruction_text\n",
    "                    },\n",
    "                    {\n",
    "                        \"type\": \"image_url\",\n",
    "                        \"image_url\": {\"url\": base64_image}\n",
    "                    }\n",
    "                ]\n",
    "            }\n",
    "        ]\n",
    "    )\n",
    "\n",
    "    return completion.choices[0].message[\"content\"]"
   ]
  },
  {
   "cell_type": "code",
   "execution_count": 6,
   "id": "6c7e4403",
   "metadata": {},
   "outputs": [],
   "source": [
    "try:\n",
    "    ans = ocr(\"table.png\")\n",
    "except Exception as E:\n",
    "    print(E)"
   ]
  },
  {
   "cell_type": "code",
   "execution_count": 8,
   "id": "32b17280",
   "metadata": {},
   "outputs": [
    {
     "name": "stdout",
     "output_type": "stream",
     "text": [
      "```json\n",
      "{\n",
      "  \"invoice_tables\": [\n",
      "    {\n",
      "      \"headers\": [\"#\", \"Description\", \"Qty\", \"Units\", \"Unit price (EUR)\", \"Total (EUR)\"],\n",
      "      \"rows\": [\n",
      "        [\"1\", \"Projecting - Context menu for invoices list\", \"x1.0\", \"hours\", \"50.00\", \"50.00\"],\n",
      "        [\"2\", \"Develop - Invoice number format template - [PRO] Duplicating invoices - Language support - Context menu for invoices list\", \"x17.0\", \"hours\", \"40.00\", \"680.00\"],\n",
      "        [\"3\", \"Analysis - [PRO] Duplicating invoices - Language support\", \"x3.0\", \"hours\", \"35.00\", \"105.00\"]\n",
      "      ]\n",
      "    }\n",
      "  ]\n",
      "}\n",
      "```\n"
     ]
    }
   ],
   "source": [
    "print(ans)"
   ]
  },
  {
   "cell_type": "code",
   "execution_count": 13,
   "id": "2390ec5e",
   "metadata": {},
   "outputs": [],
   "source": [
    "from PIL import Image\n",
    "\n",
    "# Load image\n",
    "img = Image.open(r\"table.png\")\n",
    "\n",
    "# Display image\n",
    "img.show()\n"
   ]
  },
  {
   "cell_type": "code",
   "execution_count": 12,
   "id": "0599c95b",
   "metadata": {},
   "outputs": [
    {
     "name": "stdout",
     "output_type": "stream",
     "text": [
      "```json\n",
      "{\n",
      "  \"invoice_tables\": [\n",
      "    {\n",
      "      \"headers\": [\"#\", \"PRODUCT DESCRIPTION\", \"PRICE\", \"QTY\", \"TOTAL\"],\n",
      "      \"rows\": [\n",
      "        [\"1\", \"Description 1\", \"$30.50\", \"3\", \"$91.50\"],\n",
      "        [\"2\", \"Description 2\", \"$50.00\", \"1\", \"$50.00\"],\n",
      "        [\"3\", \"Description 3\", \"$70.00\", \"5\", \"$350.00\"],\n",
      "        [\"4\", \"Description 4\", \"$20.00\", \"2\", \"$40.00\"],\n",
      "        [\"5\", \"Description 5\", \"$30.00\", \"3\", \"$90\"],\n",
      "        [\"6\", \"Description 6\", \"$150.00\", \"1\", \"$150.00\"],\n",
      "        [\"7\", \"Description 7\", \"$70.50\", \"5\", \"$352.50\"],\n",
      "        [\"8\", \"Description 8\", \"$10.00\", \"2\", \"$20.00\"],\n",
      "        [\"9\", \"Description 9\", \"$25.00\", \"6\", \"$150.00\"]\n",
      "      ]\n",
      "    }\n",
      "  ]\n",
      "}\n",
      "```\n"
     ]
    }
   ],
   "source": [
    "try:\n",
    "    ans = ocr(\"table1.jpg\")\n",
    "    print(ans)\n",
    "except Exception as E:\n",
    "    print(E)"
   ]
  },
  {
   "cell_type": "code",
   "execution_count": null,
   "id": "d525fb66",
   "metadata": {},
   "outputs": [],
   "source": []
  }
 ],
 "metadata": {
  "kernelspec": {
   "display_name": "Python 3",
   "language": "python",
   "name": "python3"
  },
  "language_info": {
   "codemirror_mode": {
    "name": "ipython",
    "version": 3
   },
   "file_extension": ".py",
   "mimetype": "text/x-python",
   "name": "python",
   "nbconvert_exporter": "python",
   "pygments_lexer": "ipython3",
   "version": "3.11.2"
  }
 },
 "nbformat": 4,
 "nbformat_minor": 5
}
